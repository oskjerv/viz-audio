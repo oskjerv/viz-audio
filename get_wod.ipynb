{
 "cells": [
  {
   "cell_type": "code",
   "execution_count": 1,
   "metadata": {},
   "outputs": [
    {
     "name": "stderr",
     "output_type": "stream",
     "text": [
      "C:\\Users\\oivind\\AppData\\Local\\Temp\\ipykernel_644\\1087979900.py:8: DeprecationWarning: You're using 'as_dict = True'.get_access_token will return the token string directly in future versions. Please adjust your code accordingly, or use get_cached_token instead.\n",
      "  token_dict = oauth_object.get_access_token()\n"
     ]
    },
    {
     "name": "stdout",
     "output_type": "stream",
     "text": [
      "name: I Don’t Live Here Anymore (Deluxe Edition), ID: 4xYRRdTJEO6tyUkycKuaWR\n",
      "name: I Don’t Live Here Anymore, ID: 69jQsPvJzMvcb2fGqI2qaB\n",
      "name: LIVE DRUGS, ID: 1vqlUwjdvsoOfYM2ZDlhXD\n",
      "name: A Deeper Understanding, ID: 4TkmrrpjlPoCPpGyDN3rkF\n",
      "name: Lost In The Dream, ID: 51VxHZphGLsI7aUPqIkJaz\n",
      "name: Slave Ambient, ID: 2KjyXCzIAZzJ6j70qPKvEj\n",
      "name: Future Weather, ID: 1sG9LABomGMUH0w56LfNV0\n",
      "name: Wagonwheel Blues, ID: 1L0YcA8xPdrm3TCUFsD2fR\n",
      "['3U9HrZM2sAZhqdSvZMj2oq', '59P1nrdEImkAKa1nyW9X2e', '2h5CXy8Pme1lTY3CUAEI1i', '413CBplTN03RNZD8H34B6q', '7GI9upbyDZyExwOtQTCMd1', '3bT26KkmTadS215IWgDR7O', '4Sd5tbNP4q8wS64abqwfkN', '5QSOhaJsSyhPeV7RHCi21L', '7CTHlYXGQb2u2iic16tIZc', '4LGcYem71ZkfSnEdfvQOV1']\n"
     ]
    }
   ],
   "source": [
    "\n",
    "\n",
    "import spotipy\n",
    "import json\n",
    "import webbrowser\n",
    "import MyCredentials\n",
    "import pandas as pd\n",
    "\n",
    "oauth_object = spotipy.SpotifyOAuth(MyCredentials.clientID, MyCredentials.clientSecret, MyCredentials.redirect_uri)\n",
    "token_dict = oauth_object.get_access_token()\n",
    "token = token_dict['access_token']\n",
    "spotifyObject = spotipy.Spotify(auth=token)\n",
    "user_name = spotifyObject.current_user()\n",
    "\n",
    "\n",
    "\n",
    "\n",
    "\n",
    "\n",
    "\n",
    "#for feature in features:\n",
    "#    for track, data in audiodata:\n"
   ]
  },
  {
   "cell_type": "code",
   "execution_count": null,
   "metadata": {},
   "outputs": [],
   "source": [
    "# Get all War on Drugs albums\n",
    "\n",
    "wod_url = 'spotify:artist:6g0mn3tzAds6aVeUYRsryU'\n",
    "\n",
    "results = spotifyObject.artist_albums(wod_url, album_type='album')\n",
    "\n",
    "albums = results['items']\n",
    "while results['next']:\n",
    "    results = spotify.next(results)\n",
    "    albums.extend(results['items'])\n",
    "\n",
    "for album in albums:\n",
    "    print(f'name: {album[\"name\"]}, ID: {album[\"id\"]}')\n",
    "\n",
    "aduid = \"\"\n",
    "\n",
    "for album in albums:\n",
    "    if album['name'] == 'A Deeper Understanding':\n",
    "        aduid = album['id']"
   ]
  },
  {
   "cell_type": "code",
   "execution_count": null,
   "metadata": {},
   "outputs": [],
   "source": [
    "# Get tracks from album\n",
    "\n",
    "track_results = spotifyObject.album_tracks(aduid)\n",
    "\n",
    "tracks = track_results['items']\n",
    "\n",
    "adu_trackids = []\n",
    "\n",
    "for track in tracks:\n",
    "    track.pop('available_markets')\n",
    "    adu_trackids.append(track['id'])\n",
    "\n",
    "print(adu_trackids)\n",
    "audiodata = dict()\n",
    "\n",
    "for track in adu_trackids:\n",
    "    audiodata[track] = spotifyObject.audio_analysis(track)\n"
   ]
  },
  {
   "cell_type": "code",
   "execution_count": 43,
   "metadata": {},
   "outputs": [
    {
     "ename": "ValueError",
     "evalue": "If using all scalar values, you must pass an index",
     "output_type": "error",
     "traceback": [
      "\u001b[1;31m---------------------------------------------------------------------------\u001b[0m",
      "\u001b[1;31mValueError\u001b[0m                                Traceback (most recent call last)",
      "Cell \u001b[1;32mIn[43], line 8\u001b[0m\n\u001b[0;32m      5\u001b[0m new \u001b[39m=\u001b[39m \u001b[39mdict\u001b[39m()\n\u001b[0;32m      7\u001b[0m \u001b[39mfor\u001b[39;00m track, data \u001b[39min\u001b[39;00m audiodata\u001b[39m.\u001b[39mitems():\n\u001b[1;32m----> 8\u001b[0m     new \u001b[39m=\u001b[39m pd\u001b[39m.\u001b[39;49mDataFrame\u001b[39m.\u001b[39;49mfrom_dict(data[\u001b[39m'\u001b[39;49m\u001b[39mtrack\u001b[39;49m\u001b[39m'\u001b[39;49m])\n\u001b[0;32m      9\u001b[0m     new\u001b[39m.\u001b[39mto_excel(\u001b[39m\"\u001b[39m\u001b[39mdata/\u001b[39m\u001b[39m\"\u001b[39m \u001b[39m+\u001b[39m track \u001b[39m+\u001b[39m \u001b[39m\"\u001b[39m\u001b[39m_\u001b[39m\u001b[39m\"\u001b[39m \u001b[39m+\u001b[39m \u001b[39m\"\u001b[39m\u001b[39m\"\u001b[39m \u001b[39m+\u001b[39m \u001b[39m\"\u001b[39m\u001b[39m.xlsx\u001b[39m\u001b[39m\"\u001b[39m)\n\u001b[0;32m     11\u001b[0m     \u001b[39m#for feature in features:\u001b[39;00m\n\u001b[0;32m     12\u001b[0m     \u001b[39m#    new = pd.DataFrame.from_dict(data[''])\u001b[39;00m\n\u001b[0;32m     13\u001b[0m     \u001b[39m#    new.to_excel(\"data/\" + track + \"_\" + feature + \".xlsx\")\u001b[39;00m\n\u001b[1;32m   (...)\u001b[0m\n\u001b[0;32m     24\u001b[0m     \u001b[39m#if track == \"3U9HrZM2sAZhqdSvZMj2oq\":\u001b[39;00m\n\u001b[0;32m     25\u001b[0m     \u001b[39m#    new = pd.DataFrame.from_dict(data['segments'])\u001b[39;00m\n",
      "File \u001b[1;32mc:\\Users\\oivind\\OneDrive - ideas2evidence AS\\Skjervheim\\Programmering\\Python\\viz-audio\\.venv\\Lib\\site-packages\\pandas\\core\\frame.py:1816\u001b[0m, in \u001b[0;36mDataFrame.from_dict\u001b[1;34m(cls, data, orient, dtype, columns)\u001b[0m\n\u001b[0;32m   1810\u001b[0m     \u001b[39mraise\u001b[39;00m \u001b[39mValueError\u001b[39;00m(\n\u001b[0;32m   1811\u001b[0m         \u001b[39mf\u001b[39m\u001b[39m\"\u001b[39m\u001b[39mExpected \u001b[39m\u001b[39m'\u001b[39m\u001b[39mindex\u001b[39m\u001b[39m'\u001b[39m\u001b[39m, \u001b[39m\u001b[39m'\u001b[39m\u001b[39mcolumns\u001b[39m\u001b[39m'\u001b[39m\u001b[39m or \u001b[39m\u001b[39m'\u001b[39m\u001b[39mtight\u001b[39m\u001b[39m'\u001b[39m\u001b[39m for orient parameter. \u001b[39m\u001b[39m\"\u001b[39m\n\u001b[0;32m   1812\u001b[0m         \u001b[39mf\u001b[39m\u001b[39m\"\u001b[39m\u001b[39mGot \u001b[39m\u001b[39m'\u001b[39m\u001b[39m{\u001b[39;00morient\u001b[39m}\u001b[39;00m\u001b[39m'\u001b[39m\u001b[39m instead\u001b[39m\u001b[39m\"\u001b[39m\n\u001b[0;32m   1813\u001b[0m     )\n\u001b[0;32m   1815\u001b[0m \u001b[39mif\u001b[39;00m orient \u001b[39m!=\u001b[39m \u001b[39m\"\u001b[39m\u001b[39mtight\u001b[39m\u001b[39m\"\u001b[39m:\n\u001b[1;32m-> 1816\u001b[0m     \u001b[39mreturn\u001b[39;00m \u001b[39mcls\u001b[39;49m(data, index\u001b[39m=\u001b[39;49mindex, columns\u001b[39m=\u001b[39;49mcolumns, dtype\u001b[39m=\u001b[39;49mdtype)\n\u001b[0;32m   1817\u001b[0m \u001b[39melse\u001b[39;00m:\n\u001b[0;32m   1818\u001b[0m     realdata \u001b[39m=\u001b[39m data[\u001b[39m\"\u001b[39m\u001b[39mdata\u001b[39m\u001b[39m\"\u001b[39m]\n",
      "File \u001b[1;32mc:\\Users\\oivind\\OneDrive - ideas2evidence AS\\Skjervheim\\Programmering\\Python\\viz-audio\\.venv\\Lib\\site-packages\\pandas\\core\\frame.py:736\u001b[0m, in \u001b[0;36mDataFrame.__init__\u001b[1;34m(self, data, index, columns, dtype, copy)\u001b[0m\n\u001b[0;32m    730\u001b[0m     mgr \u001b[39m=\u001b[39m \u001b[39mself\u001b[39m\u001b[39m.\u001b[39m_init_mgr(\n\u001b[0;32m    731\u001b[0m         data, axes\u001b[39m=\u001b[39m{\u001b[39m\"\u001b[39m\u001b[39mindex\u001b[39m\u001b[39m\"\u001b[39m: index, \u001b[39m\"\u001b[39m\u001b[39mcolumns\u001b[39m\u001b[39m\"\u001b[39m: columns}, dtype\u001b[39m=\u001b[39mdtype, copy\u001b[39m=\u001b[39mcopy\n\u001b[0;32m    732\u001b[0m     )\n\u001b[0;32m    734\u001b[0m \u001b[39melif\u001b[39;00m \u001b[39misinstance\u001b[39m(data, \u001b[39mdict\u001b[39m):\n\u001b[0;32m    735\u001b[0m     \u001b[39m# GH#38939 de facto copy defaults to False only in non-dict cases\u001b[39;00m\n\u001b[1;32m--> 736\u001b[0m     mgr \u001b[39m=\u001b[39m dict_to_mgr(data, index, columns, dtype\u001b[39m=\u001b[39;49mdtype, copy\u001b[39m=\u001b[39;49mcopy, typ\u001b[39m=\u001b[39;49mmanager)\n\u001b[0;32m    737\u001b[0m \u001b[39melif\u001b[39;00m \u001b[39misinstance\u001b[39m(data, ma\u001b[39m.\u001b[39mMaskedArray):\n\u001b[0;32m    738\u001b[0m     \u001b[39mfrom\u001b[39;00m \u001b[39mnumpy\u001b[39;00m\u001b[39m.\u001b[39;00m\u001b[39mma\u001b[39;00m \u001b[39mimport\u001b[39;00m mrecords\n",
      "File \u001b[1;32mc:\\Users\\oivind\\OneDrive - ideas2evidence AS\\Skjervheim\\Programmering\\Python\\viz-audio\\.venv\\Lib\\site-packages\\pandas\\core\\internals\\construction.py:503\u001b[0m, in \u001b[0;36mdict_to_mgr\u001b[1;34m(data, index, columns, dtype, typ, copy)\u001b[0m\n\u001b[0;32m    499\u001b[0m     \u001b[39melse\u001b[39;00m:\n\u001b[0;32m    500\u001b[0m         \u001b[39m# dtype check to exclude e.g. range objects, scalars\u001b[39;00m\n\u001b[0;32m    501\u001b[0m         arrays \u001b[39m=\u001b[39m [x\u001b[39m.\u001b[39mcopy() \u001b[39mif\u001b[39;00m \u001b[39mhasattr\u001b[39m(x, \u001b[39m\"\u001b[39m\u001b[39mdtype\u001b[39m\u001b[39m\"\u001b[39m) \u001b[39melse\u001b[39;00m x \u001b[39mfor\u001b[39;00m x \u001b[39min\u001b[39;00m arrays]\n\u001b[1;32m--> 503\u001b[0m \u001b[39mreturn\u001b[39;00m arrays_to_mgr(arrays, columns, index, dtype\u001b[39m=\u001b[39;49mdtype, typ\u001b[39m=\u001b[39;49mtyp, consolidate\u001b[39m=\u001b[39;49mcopy)\n",
      "File \u001b[1;32mc:\\Users\\oivind\\OneDrive - ideas2evidence AS\\Skjervheim\\Programmering\\Python\\viz-audio\\.venv\\Lib\\site-packages\\pandas\\core\\internals\\construction.py:114\u001b[0m, in \u001b[0;36marrays_to_mgr\u001b[1;34m(arrays, columns, index, dtype, verify_integrity, typ, consolidate)\u001b[0m\n\u001b[0;32m    111\u001b[0m \u001b[39mif\u001b[39;00m verify_integrity:\n\u001b[0;32m    112\u001b[0m     \u001b[39m# figure out the index, if necessary\u001b[39;00m\n\u001b[0;32m    113\u001b[0m     \u001b[39mif\u001b[39;00m index \u001b[39mis\u001b[39;00m \u001b[39mNone\u001b[39;00m:\n\u001b[1;32m--> 114\u001b[0m         index \u001b[39m=\u001b[39m _extract_index(arrays)\n\u001b[0;32m    115\u001b[0m     \u001b[39melse\u001b[39;00m:\n\u001b[0;32m    116\u001b[0m         index \u001b[39m=\u001b[39m ensure_index(index)\n",
      "File \u001b[1;32mc:\\Users\\oivind\\OneDrive - ideas2evidence AS\\Skjervheim\\Programmering\\Python\\viz-audio\\.venv\\Lib\\site-packages\\pandas\\core\\internals\\construction.py:667\u001b[0m, in \u001b[0;36m_extract_index\u001b[1;34m(data)\u001b[0m\n\u001b[0;32m    664\u001b[0m         \u001b[39mraise\u001b[39;00m \u001b[39mValueError\u001b[39;00m(\u001b[39m\"\u001b[39m\u001b[39mPer-column arrays must each be 1-dimensional\u001b[39m\u001b[39m\"\u001b[39m)\n\u001b[0;32m    666\u001b[0m \u001b[39mif\u001b[39;00m \u001b[39mnot\u001b[39;00m indexes \u001b[39mand\u001b[39;00m \u001b[39mnot\u001b[39;00m raw_lengths:\n\u001b[1;32m--> 667\u001b[0m     \u001b[39mraise\u001b[39;00m \u001b[39mValueError\u001b[39;00m(\u001b[39m\"\u001b[39m\u001b[39mIf using all scalar values, you must pass an index\u001b[39m\u001b[39m\"\u001b[39m)\n\u001b[0;32m    669\u001b[0m \u001b[39mif\u001b[39;00m have_series:\n\u001b[0;32m    670\u001b[0m     index \u001b[39m=\u001b[39m union_indexes(indexes)\n",
      "\u001b[1;31mValueError\u001b[0m: If using all scalar values, you must pass an index"
     ]
    }
   ],
   "source": [
    "\n",
    "#print(audiodata.keys())\n",
    "\n",
    "features = ['bars', 'beats', 'sections', 'segments', 'tatums']\n",
    "\n",
    "new = dict()\n",
    "\n",
    "for track, data in audiodata.items():\n",
    "    #new = pd.DataFrame.from_dict(data['track'])\n",
    "    #new.to_excel(\"data/\" + track + \"_\" + \"\" + \".xlsx\")\n",
    "\n",
    "    for feature in features:\n",
    "        new = pd.DataFrame.from_dict(data[feature])\n",
    "        new.to_excel(\"data/\" + track + \"_\" + feature + \".xlsx\")\n",
    "\n",
    "    #for feature in features:\n",
    "    #    try:\n",
    "    #        new = pd.DataFrame.from_dict(data[feature])\n",
    "    #        new['id'] = track\n",
    "    #    except:\n",
    "    #        print(track + feature)\n",
    "\n",
    "        #new.to_excel(\"data/\" + track + \"_\" + features + \".xlsx\")\n",
    "\n",
    "    #if track == \"3U9HrZM2sAZhqdSvZMj2oq\":\n",
    "    #    new = pd.DataFrame.from_dict(data['segments'])"
   ]
  }
 ],
 "metadata": {
  "language_info": {
   "name": "python"
  },
  "orig_nbformat": 4
 },
 "nbformat": 4,
 "nbformat_minor": 2
}
