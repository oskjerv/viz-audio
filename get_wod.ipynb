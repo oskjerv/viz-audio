{
 "cells": [
  {
   "cell_type": "code",
   "execution_count": 1,
   "metadata": {},
   "outputs": [
    {
     "name": "stderr",
     "output_type": "stream",
     "text": [
      "C:\\Users\\oivind\\AppData\\Local\\Temp\\ipykernel_644\\1087979900.py:8: DeprecationWarning: You're using 'as_dict = True'.get_access_token will return the token string directly in future versions. Please adjust your code accordingly, or use get_cached_token instead.\n",
      "  token_dict = oauth_object.get_access_token()\n"
     ]
    },
    {
     "name": "stdout",
     "output_type": "stream",
     "text": [
      "name: I Don’t Live Here Anymore (Deluxe Edition), ID: 4xYRRdTJEO6tyUkycKuaWR\n",
      "name: I Don’t Live Here Anymore, ID: 69jQsPvJzMvcb2fGqI2qaB\n",
      "name: LIVE DRUGS, ID: 1vqlUwjdvsoOfYM2ZDlhXD\n",
      "name: A Deeper Understanding, ID: 4TkmrrpjlPoCPpGyDN3rkF\n",
      "name: Lost In The Dream, ID: 51VxHZphGLsI7aUPqIkJaz\n",
      "name: Slave Ambient, ID: 2KjyXCzIAZzJ6j70qPKvEj\n",
      "name: Future Weather, ID: 1sG9LABomGMUH0w56LfNV0\n",
      "name: Wagonwheel Blues, ID: 1L0YcA8xPdrm3TCUFsD2fR\n",
      "['3U9HrZM2sAZhqdSvZMj2oq', '59P1nrdEImkAKa1nyW9X2e', '2h5CXy8Pme1lTY3CUAEI1i', '413CBplTN03RNZD8H34B6q', '7GI9upbyDZyExwOtQTCMd1', '3bT26KkmTadS215IWgDR7O', '4Sd5tbNP4q8wS64abqwfkN', '5QSOhaJsSyhPeV7RHCi21L', '7CTHlYXGQb2u2iic16tIZc', '4LGcYem71ZkfSnEdfvQOV1']\n"
     ]
    }
   ],
   "source": [
    "\n",
    "\n",
    "import spotipy\n",
    "import json\n",
    "import webbrowser\n",
    "import MyCredentials\n",
    "import pandas as pd\n",
    "\n",
    "oauth_object = spotipy.SpotifyOAuth(MyCredentials.clientID, MyCredentials.clientSecret, MyCredentials.redirect_uri)\n",
    "token_dict = oauth_object.get_access_token()\n",
    "token = token_dict['access_token']\n",
    "spotifyObject = spotipy.Spotify(auth=token)\n",
    "user_name = spotifyObject.current_user()\n",
    "\n",
    "\n",
    "\n",
    "\n",
    "\n",
    "\n",
    "\n",
    "#for feature in features:\n",
    "#    for track, data in audiodata:\n"
   ]
  },
  {
   "cell_type": "code",
   "execution_count": null,
   "metadata": {},
   "outputs": [],
   "source": [
    "# Get all War on Drugs albums\n",
    "\n",
    "wod_url = 'spotify:artist:6g0mn3tzAds6aVeUYRsryU'\n",
    "\n",
    "results = spotifyObject.artist_albums(wod_url, album_type='album')\n",
    "\n",
    "albums = results['items']\n",
    "while results['next']:\n",
    "    results = spotify.next(results)\n",
    "    albums.extend(results['items'])\n",
    "\n",
    "for album in albums:\n",
    "    print(f'name: {album[\"name\"]}, ID: {album[\"id\"]}')\n",
    "\n",
    "aduid = \"\"\n",
    "\n",
    "for album in albums:\n",
    "    if album['name'] == 'A Deeper Understanding':\n",
    "        aduid = album['id']"
   ]
  },
  {
   "cell_type": "code",
   "execution_count": null,
   "metadata": {},
   "outputs": [],
   "source": [
    "# Get tracks from album\n",
    "\n",
    "track_results = spotifyObject.album_tracks(aduid)\n",
    "\n",
    "tracks = track_results['items']\n",
    "\n",
    "adu_trackids = []\n",
    "\n",
    "for track in tracks:\n",
    "    track.pop('available_markets')\n",
    "    adu_trackids.append(track['id'])\n",
    "\n",
    "print(adu_trackids)\n",
    "audiodata = dict()\n",
    "\n",
    "for track in adu_trackids:\n",
    "    audiodata[track] = spotifyObject.audio_analysis(track)\n"
   ]
  },
  {
   "cell_type": "code",
   "execution_count": null,
   "metadata": {},
   "outputs": [],
   "source": [
    "\n",
    "#print(audiodata.keys())\n",
    "\n",
    "features = ['track', 'bars', 'beats', 'sections', 'segments', 'tatums']\n",
    "\n",
    "new = dict()\n",
    "\n",
    "for track, data in audiodata.items():\n",
    "     new = pd.DataFrame.from_dict(data['segments'])\n",
    "     new.to_excel(\"data/\" + track + \"_\" + 'segments' + \".xlsx\")\n",
    "\n",
    "    #for feature in features:\n",
    "    #    try:\n",
    "    #        new = pd.DataFrame.from_dict(data[feature])\n",
    "    #        new['id'] = track\n",
    "    #    except:\n",
    "    #        print(track + feature)\n",
    "\n",
    "        #new.to_excel(\"data/\" + track + \"_\" + features + \".xlsx\")\n",
    "\n",
    "    #if track == \"3U9HrZM2sAZhqdSvZMj2oq\":\n",
    "    #    new = pd.DataFrame.from_dict(data['segments'])"
   ]
  }
 ],
 "metadata": {
  "language_info": {
   "name": "python"
  },
  "orig_nbformat": 4
 },
 "nbformat": 4,
 "nbformat_minor": 2
}
